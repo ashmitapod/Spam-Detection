{
 "cells": [
  {
   "cell_type": "code",
   "execution_count": 5,
   "id": "79affd63-22de-4511-9ac7-4165d6279ed5",
   "metadata": {},
   "outputs": [],
   "source": [
    "import pandas as pd\n",
    "import os\n",
    "import re\n",
    "from sklearn.feature_extraction.text import TfidfVectorizer\n",
    "from sklearn.model_selection import train_test_split\n",
    "from sklearn.naive_bayes import MultinomialNB\n",
    "from sklearn.metrics import accuracy_score, classification_report\n"
   ]
  },
  {
   "cell_type": "code",
   "execution_count": 9,
   "id": "48a351ab-8731-421f-9941-1c264e16c1e0",
   "metadata": {},
   "outputs": [
    {
     "name": "stdout",
     "output_type": "stream",
     "text": [
      "                                        file  \\\n",
      "0             kaminski-v/all_documents/2500.   \n",
      "1                 hayslett-r/sent_items/375.   \n",
      "2                       germany-c/appala/86.   \n",
      "3  kaminski-v/c/technote/mail/techmemos/257.   \n",
      "4                        farmer-d/tufco/716.   \n",
      "\n",
      "                                             message  \n",
      "0  Message-ID: <21731374.1075856243409.JavaMail.e...  \n",
      "1  Message-ID: <15611337.1075862281661.JavaMail.e...  \n",
      "2  Message-ID: <30542256.1075853724942.JavaMail.e...  \n",
      "3  Message-ID: <19614710.1075857036430.JavaMail.e...  \n",
      "4  Message-ID: <13594729.1075854345152.JavaMail.e...  \n"
     ]
    }
   ],
   "source": [
    "# Load the dataset\n",
    "df = pd.read_csv('subset.csv')  # Adjust file name as needed\n",
    "\n",
    "# Display the structure\n",
    "print(df.head())\n"
   ]
  },
  {
   "cell_type": "code",
   "execution_count": 11,
   "id": "8d5e9bde-df0a-4f9b-b714-65ce0a8b2aaa",
   "metadata": {},
   "outputs": [
    {
     "name": "stdout",
     "output_type": "stream",
     "text": [
      "                                        file  \\\n",
      "0             kaminski-v/all_documents/2500.   \n",
      "1                 hayslett-r/sent_items/375.   \n",
      "2                       germany-c/appala/86.   \n",
      "3  kaminski-v/c/technote/mail/techmemos/257.   \n",
      "4                        farmer-d/tufco/716.   \n",
      "\n",
      "                                     cleaned_message  \n",
      "0  date thu 21 dec 2000 05 36 00 0800 pst content...  \n",
      "1  date mon 19 nov 2001 12 56 12 0800 pst content...  \n",
      "2  date fri 10 mar 2000 04 28 00 0800 pst cc carr...  \n",
      "3  date mon 10 jan 2000 07 35 00 0800 pst cc vinc...  \n",
      "4  date fri 16 mar 2001 03 45 00 0800 pst daren j...  \n"
     ]
    }
   ],
   "source": [
    "def clean_email_content(content):\n",
    "    # Remove email metadata\n",
    "    metadata_pattern = r\"^(Message-ID:|From:|To:|Subject:|Mime-Version:|Content-Type:|X-.*:).*\\n?\"\n",
    "    content = re.sub(metadata_pattern, '', content, flags=re.MULTILINE)\n",
    "    \n",
    "    # Remove non-alphanumeric characters\n",
    "    content = re.sub(r'\\W+', ' ', content)\n",
    "    \n",
    "    # Convert to lowercase\n",
    "    content = content.lower()\n",
    "    \n",
    "    return content\n",
    "\n",
    "# Apply cleaning function\n",
    "df['cleaned_message'] = df['message'].apply(clean_email_content)\n",
    "\n",
    "# Display cleaned data\n",
    "print(df[['file', 'cleaned_message']].head())\n"
   ]
  },
  {
   "cell_type": "code",
   "execution_count": 13,
   "id": "11d9d14f-6f31-4228-8f17-c11076d3457f",
   "metadata": {},
   "outputs": [],
   "source": [
    "# Assume spam emails are stored in directories with \"spam\" in their path\n",
    "df['label'] = df['file'].apply(lambda x: 1 if 'spam' in x else 0)  # 1 for spam, 0 for ham\n"
   ]
  },
  {
   "cell_type": "code",
   "execution_count": 15,
   "id": "55876ddd-f10a-48e6-957b-f59209f62d7e",
   "metadata": {},
   "outputs": [],
   "source": [
    "# TF-IDF Vectorizer\n",
    "vectorizer = TfidfVectorizer(max_features=5000, stop_words='english')\n",
    "\n",
    "# Transform the messages into TF-IDF features\n",
    "X = vectorizer.fit_transform(df['cleaned_message']).toarray()\n",
    "\n",
    "# Labels\n",
    "y = df['label']\n",
    "\n",
    "# Split into train and test sets\n",
    "X_train, X_test, y_train, y_test = train_test_split(X, y, test_size=0.2, random_state=42)\n"
   ]
  },
  {
   "cell_type": "code",
   "execution_count": 17,
   "id": "dc1545dc-ecea-4425-a5e2-feabe5eee72d",
   "metadata": {},
   "outputs": [],
   "source": [
    "# Naive Bayes Classifier\n",
    "model = MultinomialNB()\n",
    "model.fit(X_train, y_train)\n",
    "\n",
    "# Make predictions\n",
    "y_pred = model.predict(X_test)\n"
   ]
  },
  {
   "cell_type": "code",
   "execution_count": 19,
   "id": "0b458350-7d5c-4551-945e-17c199eb57d9",
   "metadata": {},
   "outputs": [
    {
     "name": "stdout",
     "output_type": "stream",
     "text": [
      "Accuracy: 100.00%\n",
      "Classification Report:\n",
      "              precision    recall  f1-score   support\n",
      "\n",
      "           0       1.00      1.00      1.00        10\n",
      "\n",
      "    accuracy                           1.00        10\n",
      "   macro avg       1.00      1.00      1.00        10\n",
      "weighted avg       1.00      1.00      1.00        10\n",
      "\n"
     ]
    }
   ],
   "source": [
    "# Accuracy\n",
    "accuracy = accuracy_score(y_test, y_pred)\n",
    "print(f\"Accuracy: {accuracy * 100:.2f}%\")\n",
    "\n",
    "# Detailed Classification Report\n",
    "print(\"Classification Report:\")\n",
    "print(classification_report(y_test, y_pred))\n"
   ]
  },
  {
   "cell_type": "code",
   "execution_count": 21,
   "id": "9b840883-9279-408f-8d50-dfde865f7416",
   "metadata": {},
   "outputs": [],
   "source": [
    "import joblib\n",
    "\n",
    "# Save the model and TF-IDF vectorizer\n",
    "joblib.dump(model, 'naive_bayes_model.pkl')\n",
    "joblib.dump(vectorizer, 'tfidf_vectorizer.pkl')\n",
    "\n",
    "# Load for inference\n",
    "loaded_model = joblib.load('naive_bayes_model.pkl')\n",
    "loaded_vectorizer = joblib.load('tfidf_vectorizer.pkl')\n"
   ]
  },
  {
   "cell_type": "code",
   "execution_count": 23,
   "id": "9e9dbae5-2476-4f71-8d07-764c96008d56",
   "metadata": {},
   "outputs": [
    {
     "name": "stdout",
     "output_type": "stream",
     "text": [
      "Ham\n"
     ]
    }
   ],
   "source": [
    "def classify_email(email_content):\n",
    "    cleaned_content = clean_email_content(email_content)\n",
    "    transformed_content = loaded_vectorizer.transform([cleaned_content]).toarray()\n",
    "    prediction = loaded_model.predict(transformed_content)\n",
    "    return \"Spam\" if prediction[0] == 1 else \"Ham\"\n",
    "\n",
    "# Example email\n",
    "new_email = \"Congratulations! You've won a $1,000 gift card. Claim now!\"\n",
    "print(classify_email(new_email))\n"
   ]
  },
  {
   "cell_type": "code",
   "execution_count": null,
   "id": "ca485869-824a-4e69-bd81-555a54554c6a",
   "metadata": {},
   "outputs": [],
   "source": []
  }
 ],
 "metadata": {
  "kernelspec": {
   "display_name": "Python 3 (ipykernel)",
   "language": "python",
   "name": "python3"
  },
  "language_info": {
   "codemirror_mode": {
    "name": "ipython",
    "version": 3
   },
   "file_extension": ".py",
   "mimetype": "text/x-python",
   "name": "python",
   "nbconvert_exporter": "python",
   "pygments_lexer": "ipython3",
   "version": "3.12.4"
  }
 },
 "nbformat": 4,
 "nbformat_minor": 5
}
